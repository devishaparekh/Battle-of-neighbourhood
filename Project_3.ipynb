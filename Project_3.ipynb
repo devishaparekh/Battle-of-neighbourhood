{
 "cells": [
  {
   "cell_type": "markdown",
   "metadata": {},
   "source": [
    "<h1>Visualizing data of Toronto:</h1>\n",
    "\n",
    "<p>\n",
    "    Importing necessary libraries:\n",
    "</p>"
   ]
  },
  {
   "cell_type": "code",
   "execution_count": 17,
   "metadata": {},
   "outputs": [
    {
     "name": "stdout",
     "output_type": "stream",
     "text": [
      "Libraries imported.\n"
     ]
    }
   ],
   "source": [
    "import random\n",
    "import numpy as np \n",
    "import pandas as pd\n",
    "import seaborn as sns\n",
    "import matplotlib.pyplot as plt\n",
    "%matplotlib inline \n",
    "from sklearn.cluster import KMeans \n",
    "from sklearn.datasets.samples_generator import make_blobs\n",
    "print('Libraries imported.')"
   ]
  },
  {
   "cell_type": "markdown",
   "metadata": {},
   "source": [
    "<h5>Loading cleaned data into dataframes:</h5>\n",
    "\n",
    "<p>\n",
    "    Deleting non-numeric columns as K-means can only process numeric values.\n",
    "</p>"
   ]
  },
  {
   "cell_type": "code",
   "execution_count": 9,
   "metadata": {},
   "outputs": [
    {
     "data": {
      "text/html": [
       "<div>\n",
       "<style scoped>\n",
       "    .dataframe tbody tr th:only-of-type {\n",
       "        vertical-align: middle;\n",
       "    }\n",
       "\n",
       "    .dataframe tbody tr th {\n",
       "        vertical-align: top;\n",
       "    }\n",
       "\n",
       "    .dataframe thead th {\n",
       "        text-align: right;\n",
       "    }\n",
       "</style>\n",
       "<table border=\"1\" class=\"dataframe\">\n",
       "  <thead>\n",
       "    <tr style=\"text-align: right;\">\n",
       "      <th></th>\n",
       "      <th>Latitude</th>\n",
       "      <th>Longitude</th>\n",
       "    </tr>\n",
       "  </thead>\n",
       "  <tbody>\n",
       "    <tr>\n",
       "      <th>0</th>\n",
       "      <td>43.728020</td>\n",
       "      <td>-79.388790</td>\n",
       "    </tr>\n",
       "    <tr>\n",
       "      <th>1</th>\n",
       "      <td>43.711695</td>\n",
       "      <td>-79.416936</td>\n",
       "    </tr>\n",
       "    <tr>\n",
       "      <th>2</th>\n",
       "      <td>43.712751</td>\n",
       "      <td>-79.390197</td>\n",
       "    </tr>\n",
       "    <tr>\n",
       "      <th>3</th>\n",
       "      <td>43.696948</td>\n",
       "      <td>-79.411307</td>\n",
       "    </tr>\n",
       "    <tr>\n",
       "      <th>4</th>\n",
       "      <td>43.715383</td>\n",
       "      <td>-79.405678</td>\n",
       "    </tr>\n",
       "  </tbody>\n",
       "</table>\n",
       "</div>"
      ],
      "text/plain": [
       "    Latitude  Longitude\n",
       "0  43.728020 -79.388790\n",
       "1  43.711695 -79.416936\n",
       "2  43.712751 -79.390197\n",
       "3  43.696948 -79.411307\n",
       "4  43.715383 -79.405678"
      ]
     },
     "execution_count": 9,
     "metadata": {},
     "output_type": "execute_result"
    }
   ],
   "source": [
    "data=pd.read_csv('/resources/data/Toronto_Geo_data.csv')\n",
    "data=data.drop([\"Postal code\", \"Borough\", \"Neighborhood\"], axis=1)\n",
    "data.head()"
   ]
  },
  {
   "cell_type": "code",
   "execution_count": 10,
   "metadata": {},
   "outputs": [
    {
     "data": {
      "text/plain": [
       "array([[ 0.44845406,  0.08650566],\n",
       "       [ 0.13574746, -0.20463387],\n",
       "       [ 0.1559801 ,  0.07194739],\n",
       "       [-0.14672415, -0.1464132 ],\n",
       "       [ 0.20639984, -0.0881884 ],\n",
       "       [-0.61098304, -0.0881884 ],\n",
       "       [-0.00542705,  0.08650566],\n",
       "       [-0.28795421,  0.14474494],\n",
       "       [-0.34851996, -0.0299605 ],\n",
       "       [-0.96437519,  0.37773518],\n",
       "       [-0.81034434,  0.07922652],\n",
       "       [-0.90879146,  0.18842596],\n",
       "       [-1.01735586,  0.22482887],\n",
       "       [-1.14613182,  0.24667041],\n",
       "       [-0.89364811,  0.10106496],\n",
       "       [-0.67165797, -0.26285143],\n",
       "       [-1.03502949,  0.1301846 ],\n",
       "       [-1.22188881,  0.15930528],\n",
       "       [-1.10004669,  0.16112481],\n",
       "       [-1.08047678,  0.17932523],\n",
       "       [-0.80279565, -0.0299605 ],\n",
       "       [-0.9845676 , -0.0299605 ],\n",
       "       [-1.44923065,  0.02827051],\n",
       "       [-0.47972085,  0.20298733],\n",
       "       [-1.11425148,  0.23074465],\n",
       "       [-0.70182592,  0.30491901],\n",
       "       [-1.0760579 ,  0.15384464],\n",
       "       [-0.74218585,  0.14474494],\n",
       "       [-0.54111407,  1.07704414],\n",
       "       [-0.4798262 ,  0.465121  ],\n",
       "       [-0.68206831,  0.84388426],\n",
       "       [-0.86351655,  0.58164715],\n",
       "       [-0.8018705 ,  0.78196041],\n",
       "       [ 0.03427589,  0.90216906],\n",
       "       [-0.17744183,  0.81474393],\n",
       "       [ 0.0852875 ,  0.3486083 ],\n",
       "       [ 0.01457957,  0.49425098],\n",
       "       [-0.36892499,  0.61078127],\n",
       "       [-0.7039597 , -1.39737754],\n",
       "       [-1.0279041 , -1.62993333],\n",
       "       [-1.1701819 , -1.86243118],\n",
       "       [-0.15876451, -1.39737754],\n",
       "       [-0.30076649, -1.62993333],\n",
       "       [-1.89552668, -1.07752076],\n",
       "       [ 0.66673402, -1.97865839],\n",
       "       [-1.95745046, -1.51366267],\n",
       "       [ 0.04100094, -2.0367663 ],\n",
       "       [-0.97598841, -1.13568453],\n",
       "       [-1.30919007, -1.04843732],\n",
       "       [-1.45125908, -1.28107896],\n",
       "       [-1.2956346 , -2.26190124],\n",
       "       [ 0.93187104,  0.69818881],\n",
       "       [ 0.40749844,  0.84388426],\n",
       "       [ 0.26644077, -0.6993678 ],\n",
       "       [ 0.79103364,  0.465121  ],\n",
       "       [ 0.09518258, -0.49568547],\n",
       "       [ 0.40783172,  0.58164715],\n",
       "       [ 1.89922981,  0.3486083 ],\n",
       "       [ 0.95236034, -0.46658445],\n",
       "       [ 1.41568642,  0.523382  ],\n",
       "       [ 1.21385421, -0.9320953 ],\n",
       "       [ 1.57715295,  0.1156253 ],\n",
       "       [ 0.62951348, -0.6993678 ],\n",
       "       [ 1.01292418,  0.23210904],\n",
       "       [ 0.65903784, -1.13568453],\n",
       "       [ 0.17523204, -0.96118184],\n",
       "       [ 0.99018999, -1.74618949],\n",
       "       [ 1.61748606, -0.1173008 ],\n",
       "       [ 0.45756957, -1.01935285],\n",
       "       [ 0.54924375, -0.23374316],\n",
       "       [ 0.38611463, -1.39737754],\n",
       "       [ 1.25483666, -0.1173008 ],\n",
       "       [ 1.09224386, -1.28107896],\n",
       "       [ 0.92228816, -0.0299605 ],\n",
       "       [ 1.4964963 , -0.46658445],\n",
       "       [ 1.95523876,  2.09777597],\n",
       "       [ 1.53094905,  2.44798852],\n",
       "       [ 1.12942801,  2.15613628],\n",
       "       [ 1.271543  ,  1.86437197],\n",
       "       [ 1.3126078 ,  1.6310228 ],\n",
       "       [ 0.76859251,  1.6310228 ],\n",
       "       [ 0.44670528,  1.39772948],\n",
       "       [ 0.12457862,  1.16449306],\n",
       "       [ 0.2242631 ,  1.6310228 ],\n",
       "       [-0.22890739,  1.3685726 ],\n",
       "       [ 1.01138034,  1.28110403],\n",
       "       [ 0.87082451,  1.04789553],\n",
       "       [ 1.71607875,  1.39772948],\n",
       "       [ 1.47544769,  0.96045696],\n",
       "       [ 2.11931218,  1.16449306],\n",
       "       [ 1.81807323,  0.81474393],\n",
       "       [ 2.51910935,  1.98106673],\n",
       "       [-0.68194189, -0.46658445],\n",
       "       [-1.08568291, -0.23374316],\n",
       "       [-1.29790247, -0.32106485],\n",
       "       [-0.82362207, -0.6993678 ],\n",
       "       [-1.06589657, -0.61208128],\n",
       "       [-1.01588673, -0.90300772],\n",
       "       [-0.20737226, -0.32106485],\n",
       "       [-0.29846415, -0.58298336],\n",
       "       [-0.25842793, -0.81573879],\n",
       "       [-0.60187328, -0.9320953 ],\n",
       "       [ 0.04344694, -1.25200173]])"
      ]
     },
     "execution_count": 10,
     "metadata": {},
     "output_type": "execute_result"
    }
   ],
   "source": [
    "from sklearn.preprocessing import StandardScaler\n",
    "X = data.values[:,0:]\n",
    "X = np.nan_to_num(X)\n",
    "cluster_dataset = StandardScaler().fit_transform(X)\n",
    "cluster_dataset"
   ]
  },
  {
   "cell_type": "markdown",
   "metadata": {},
   "source": [
    "<h5> Perofrming K-means clustering operation on data:</h5>\n",
    "\n",
    "<p>\n",
    "    Here, I am creating 3 clusters and gonna print the labels it is assigned to the values.\n",
    "</p>\n"
   ]
  },
  {
   "cell_type": "code",
   "execution_count": 13,
   "metadata": {},
   "outputs": [
    {
     "name": "stdout",
     "output_type": "stream",
     "text": [
      "[2 2 2 2 2 2 2 2 2 2 2 2 2 2 2 2 2 2 2 2 2 2 2 2 2 2 2 2 2 2 2 2 2 2 2 2 2\n",
      " 2 0 0 0 0 0 0 0 0 0 0 0 0 0 1 1 0 1 0 1 1 0 1 0 1 0 1 0 0 0 1 0 2 0 1 0 1\n",
      " 1 1 1 1 1 1 1 1 1 1 2 1 1 1 1 1 1 1 2 2 2 0 2 0 2 0 0 0 0]\n"
     ]
    }
   ],
   "source": [
    "num_clusters = 3\n",
    "\n",
    "k_means = KMeans(init=\"k-means++\", n_clusters=num_clusters, n_init=12)\n",
    "k_means.fit(cluster_dataset)\n",
    "labels = k_means.labels_\n",
    "\n",
    "print(labels)"
   ]
  },
  {
   "cell_type": "code",
   "execution_count": 15,
   "metadata": {},
   "outputs": [
    {
     "data": {
      "text/html": [
       "<div>\n",
       "<style scoped>\n",
       "    .dataframe tbody tr th:only-of-type {\n",
       "        vertical-align: middle;\n",
       "    }\n",
       "\n",
       "    .dataframe tbody tr th {\n",
       "        vertical-align: top;\n",
       "    }\n",
       "\n",
       "    .dataframe thead th {\n",
       "        text-align: right;\n",
       "    }\n",
       "</style>\n",
       "<table border=\"1\" class=\"dataframe\">\n",
       "  <thead>\n",
       "    <tr style=\"text-align: right;\">\n",
       "      <th></th>\n",
       "      <th>Latitude</th>\n",
       "      <th>Longitude</th>\n",
       "      <th>Labels</th>\n",
       "    </tr>\n",
       "  </thead>\n",
       "  <tbody>\n",
       "    <tr>\n",
       "      <th>98</th>\n",
       "      <td>43.693781</td>\n",
       "      <td>-79.428191</td>\n",
       "      <td>2</td>\n",
       "    </tr>\n",
       "    <tr>\n",
       "      <th>99</th>\n",
       "      <td>43.689026</td>\n",
       "      <td>-79.453512</td>\n",
       "      <td>0</td>\n",
       "    </tr>\n",
       "    <tr>\n",
       "      <th>100</th>\n",
       "      <td>43.691116</td>\n",
       "      <td>-79.476013</td>\n",
       "      <td>0</td>\n",
       "    </tr>\n",
       "    <tr>\n",
       "      <th>101</th>\n",
       "      <td>43.673185</td>\n",
       "      <td>-79.487262</td>\n",
       "      <td>0</td>\n",
       "    </tr>\n",
       "    <tr>\n",
       "      <th>102</th>\n",
       "      <td>43.706876</td>\n",
       "      <td>-79.518188</td>\n",
       "      <td>0</td>\n",
       "    </tr>\n",
       "  </tbody>\n",
       "</table>\n",
       "</div>"
      ],
      "text/plain": [
       "      Latitude  Longitude  Labels\n",
       "98   43.693781 -79.428191       2\n",
       "99   43.689026 -79.453512       0\n",
       "100  43.691116 -79.476013       0\n",
       "101  43.673185 -79.487262       0\n",
       "102  43.706876 -79.518188       0"
      ]
     },
     "execution_count": 15,
     "metadata": {},
     "output_type": "execute_result"
    }
   ],
   "source": [
    "data[\"Labels\"] = labels\n",
    "data.tail()"
   ]
  },
  {
   "cell_type": "code",
   "execution_count": 16,
   "metadata": {},
   "outputs": [
    {
     "data": {
      "text/html": [
       "<div>\n",
       "<style scoped>\n",
       "    .dataframe tbody tr th:only-of-type {\n",
       "        vertical-align: middle;\n",
       "    }\n",
       "\n",
       "    .dataframe tbody tr th {\n",
       "        vertical-align: top;\n",
       "    }\n",
       "\n",
       "    .dataframe thead th {\n",
       "        text-align: right;\n",
       "    }\n",
       "</style>\n",
       "<table border=\"1\" class=\"dataframe\">\n",
       "  <thead>\n",
       "    <tr style=\"text-align: right;\">\n",
       "      <th></th>\n",
       "      <th>Latitude</th>\n",
       "      <th>Longitude</th>\n",
       "    </tr>\n",
       "    <tr>\n",
       "      <th>Labels</th>\n",
       "      <th></th>\n",
       "      <th></th>\n",
       "    </tr>\n",
       "  </thead>\n",
       "  <tbody>\n",
       "    <tr>\n",
       "      <th>0</th>\n",
       "      <td>43.691424</td>\n",
       "      <td>-79.514031</td>\n",
       "    </tr>\n",
       "    <tr>\n",
       "      <th>1</th>\n",
       "      <td>43.768056</td>\n",
       "      <td>-79.301355</td>\n",
       "    </tr>\n",
       "    <tr>\n",
       "      <th>2</th>\n",
       "      <td>43.673918</td>\n",
       "      <td>-79.378842</td>\n",
       "    </tr>\n",
       "  </tbody>\n",
       "</table>\n",
       "</div>"
      ],
      "text/plain": [
       "         Latitude  Longitude\n",
       "Labels                      \n",
       "0       43.691424 -79.514031\n",
       "1       43.768056 -79.301355\n",
       "2       43.673918 -79.378842"
      ]
     },
     "execution_count": 16,
     "metadata": {},
     "output_type": "execute_result"
    }
   ],
   "source": [
    "data.groupby('Labels').mean()"
   ]
  },
  {
   "cell_type": "markdown",
   "metadata": {},
   "source": [
    "<h5> Visualizing clustered data using swarmplot of Seaborn library:</h5>"
   ]
  },
  {
   "cell_type": "code",
   "execution_count": 45,
   "metadata": {},
   "outputs": [
    {
     "data": {
      "text/plain": [
       "<matplotlib.axes._subplots.AxesSubplot at 0x7f81114a8668>"
      ]
     },
     "execution_count": 45,
     "metadata": {},
     "output_type": "execute_result"
    },
    {
     "data": {
      "image/png": "[encoded data removed]",
      "text/plain": [
       "<Figure size 432x288 with 1 Axes>"
      ]
     },
     "metadata": {},
     "output_type": "display_data"
    }
   ],
   "source": [
    "sns.set()\n",
    "sns.swarmplot(x=\"Labels\", y=\"Longitude\", data=data)"
   ]
  },
  {
   "cell_type": "markdown",
   "metadata": {},
   "source": [
    "<h5> Trying the same thing with 3D plot visualization of the data using scatter plot: </h5>"
   ]
  },
  {
   "cell_type": "code",
   "execution_count": 43,
   "metadata": {},
   "outputs": [
    {
     "data": {
      "image/png": "[encoded data removed]",
      "text/plain": [
       "<Figure size 432x288 with 1 Axes>"
      ]
     },
     "metadata": {},
     "output_type": "display_data"
    }
   ],
   "source": [
    "from mpl_toolkits.mplot3d import Axes3D\n",
    "fig = plt.figure()\n",
    "ax = fig.add_subplot(111, projection='3d')\n",
    "ax.scatter(data['Latitude'], data['Longitude'],data[\"Labels\"] , c='hotpink', s=50)\n",
    "ax.view_init(20, 185)\n",
    "plt.show()"
   ]
  },
  {
   "cell_type": "code",
   "execution_count": null,
   "metadata": {},
   "outputs": [],
   "source": []
  }
 ],
 "metadata": {
  "kernelspec": {
   "display_name": "Python",
   "language": "python",
   "name": "conda-env-python-py"
  },
  "language_info": {
   "codemirror_mode": {
    "name": "ipython",
    "version": 3
   },
   "file_extension": ".py",
   "mimetype": "text/x-python",
   "name": "python",
   "nbconvert_exporter": "python",
   "pygments_lexer": "ipython3",
   "version": "3.6.10"
  }
 },
 "nbformat": 4,
 "nbformat_minor": 4
}
